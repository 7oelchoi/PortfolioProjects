{
  "nbformat": 4,
  "nbformat_minor": 0,
  "metadata": {
    "colab": {
      "provenance": []
    },
    "kernelspec": {
      "name": "python3",
      "display_name": "Python 3"
    },
    "language_info": {
      "name": "python"
    }
  },
  "cells": [
    {
      "cell_type": "markdown",
      "source": [
        "# Association Rules"
      ],
      "metadata": {
        "id": "972vsd2w2yom"
      }
    },
    {
      "cell_type": "code",
      "source": [
        "import pandas as pd\n",
        "from mlxtend.frequent_patterns import apriori\n",
        "from mlxtend.frequent_patterns import association_rules\n",
        "import matplotlib.pyplot as plt\n",
        "import numpy as np\n",
        "import seaborn as sns\n",
        "from google.colab import drive"
      ],
      "metadata": {
        "id": "oiNGvPtL1h1e",
        "colab": {
          "base_uri": "https://localhost:8080/"
        },
        "outputId": "e33de0fe-d0ab-4751-fc16-599a75cf2e43"
      },
      "execution_count": null,
      "outputs": [
        {
          "output_type": "stream",
          "name": "stderr",
          "text": [
            "/usr/local/lib/python3.10/dist-packages/ipykernel/ipkernel.py:283: DeprecationWarning: `should_run_async` will not call `transform_cell` automatically in the future. Please pass the result to `transformed_cell` argument and any exception that happen during thetransform in `preprocessing_exc_tuple` in IPython 7.17 and above.\n",
            "  and should_run_async(code)\n"
          ]
        }
      ]
    },
    {
      "cell_type": "code",
      "execution_count": null,
      "metadata": {
        "colab": {
          "base_uri": "https://localhost:8080/"
        },
        "id": "7Lh-L1S11fUp",
        "outputId": "5e87197a-a73e-466f-8d1a-74758da246ac"
      },
      "outputs": [
        {
          "output_type": "stream",
          "name": "stderr",
          "text": [
            "/usr/local/lib/python3.10/dist-packages/ipykernel/ipkernel.py:283: DeprecationWarning: `should_run_async` will not call `transform_cell` automatically in the future. Please pass the result to `transformed_cell` argument and any exception that happen during thetransform in `preprocessing_exc_tuple` in IPython 7.17 and above.\n",
            "  and should_run_async(code)\n"
          ]
        },
        {
          "output_type": "stream",
          "name": "stdout",
          "text": [
            "Drive already mounted at /content/drive; to attempt to forcibly remount, call drive.mount(\"/content/drive\", force_remount=True).\n"
          ]
        }
      ],
      "source": [
        "drive.mount('/content/drive')"
      ]
    },
    {
      "cell_type": "code",
      "source": [
        "# Load the dataset, here you can use the same path you used in the previous notebook\n",
        "df = pd.read_csv(\"/content/drive/MyDrive/Unsupervised Learning/Data/Import_data_cleansed.csv\")"
      ],
      "metadata": {
        "colab": {
          "base_uri": "https://localhost:8080/"
        },
        "id": "KTQQ5Eu82lLG",
        "outputId": "145aced2-d746-4024-9636-0a6816f1dba6"
      },
      "execution_count": null,
      "outputs": [
        {
          "output_type": "stream",
          "name": "stderr",
          "text": [
            "/usr/local/lib/python3.10/dist-packages/ipykernel/ipkernel.py:283: DeprecationWarning: `should_run_async` will not call `transform_cell` automatically in the future. Please pass the result to `transformed_cell` argument and any exception that happen during thetransform in `preprocessing_exc_tuple` in IPython 7.17 and above.\n",
            "  and should_run_async(code)\n"
          ]
        }
      ]
    },
    {
      "cell_type": "code",
      "source": [
        "df.info()"
      ],
      "metadata": {
        "colab": {
          "base_uri": "https://localhost:8080/"
        },
        "id": "VGW5ORm_gHkW",
        "outputId": "64200f80-aa36-4ac8-8fc0-138c4a763ebf"
      },
      "execution_count": null,
      "outputs": [
        {
          "output_type": "stream",
          "name": "stdout",
          "text": [
            "<class 'pandas.core.frame.DataFrame'>\n",
            "RangeIndex: 7864 entries, 0 to 7863\n",
            "Data columns (total 7 columns):\n",
            " #   Column               Non-Null Count  Dtype  \n",
            "---  ------               --------------  -----  \n",
            " 0   DECLARATION ID       7864 non-null   object \n",
            " 1   DECLARATION DATE     7864 non-null   object \n",
            " 2   IMPORTER_TIN         7864 non-null   int64  \n",
            " 3   IMPORT_COMPANY_NAME  7864 non-null   object \n",
            " 4   COUNTRY OF ORIGIN    7864 non-null   object \n",
            " 5   FOB VALUE            7864 non-null   float64\n",
            " 6   HS CODE              7864 non-null   int64  \n",
            "dtypes: float64(1), int64(2), object(4)\n",
            "memory usage: 430.2+ KB\n"
          ]
        },
        {
          "output_type": "stream",
          "name": "stderr",
          "text": [
            "/usr/local/lib/python3.10/dist-packages/ipykernel/ipkernel.py:283: DeprecationWarning: `should_run_async` will not call `transform_cell` automatically in the future. Please pass the result to `transformed_cell` argument and any exception that happen during thetransform in `preprocessing_exc_tuple` in IPython 7.17 and above.\n",
            "  and should_run_async(code)\n"
          ]
        }
      ]
    },
    {
      "cell_type": "code",
      "source": [
        "df.head()"
      ],
      "metadata": {
        "colab": {
          "base_uri": "https://localhost:8080/",
          "height": 343
        },
        "id": "1ahGXRxQgsG4",
        "outputId": "9d836bb2-befa-41c3-efc4-ef374d36f7c9"
      },
      "execution_count": null,
      "outputs": [
        {
          "output_type": "stream",
          "name": "stderr",
          "text": [
            "/usr/local/lib/python3.10/dist-packages/ipykernel/ipkernel.py:283: DeprecationWarning: `should_run_async` will not call `transform_cell` automatically in the future. Please pass the result to `transformed_cell` argument and any exception that happen during thetransform in `preprocessing_exc_tuple` in IPython 7.17 and above.\n",
            "  and should_run_async(code)\n"
          ]
        },
        {
          "output_type": "execute_result",
          "data": {
            "text/plain": [
              "  DECLARATION ID DECLARATION DATE  IMPORTER_TIN  \\\n",
              "0    ADDL1090435        01.Mar.22     102079981   \n",
              "1    ADDL1089767        01.Mar.22     100103559   \n",
              "2    ADDA1091117        01.Mar.22     133069143   \n",
              "3    ADDA1089579        01.Mar.22     142479281   \n",
              "4    ADDL1090103        01.Mar.22     107893245   \n",
              "\n",
              "                IMPORT_COMPANY_NAME COUNTRY OF ORIGIN    FOB VALUE  \\\n",
              "0               NR JOB DAUDI MASIMA            Israel     23097.10   \n",
              "1  ESSEGEE HOUSEHOLD STORE LIMITED.             China    100599.86   \n",
              "2            KENU EQUIPMENT LIMITED     United States         0.00   \n",
              "3       NEE TECH & SERVICES LIMITED             Japan  10462986.30   \n",
              "4                           unknown             China    523842.23   \n",
              "\n",
              "        HS CODE  \n",
              "0  420212000000  \n",
              "1  820420000000  \n",
              "2  730792000000  \n",
              "3  481690000000  \n",
              "4  961511000000  "
            ],
            "text/html": [
              "\n",
              "  <div id=\"df-ddd7c19c-bfb9-470c-9b57-e6657d065fcc\" class=\"colab-df-container\">\n",
              "    <div>\n",
              "<style scoped>\n",
              "    .dataframe tbody tr th:only-of-type {\n",
              "        vertical-align: middle;\n",
              "    }\n",
              "\n",
              "    .dataframe tbody tr th {\n",
              "        vertical-align: top;\n",
              "    }\n",
              "\n",
              "    .dataframe thead th {\n",
              "        text-align: right;\n",
              "    }\n",
              "</style>\n",
              "<table border=\"1\" class=\"dataframe\">\n",
              "  <thead>\n",
              "    <tr style=\"text-align: right;\">\n",
              "      <th></th>\n",
              "      <th>DECLARATION ID</th>\n",
              "      <th>DECLARATION DATE</th>\n",
              "      <th>IMPORTER_TIN</th>\n",
              "      <th>IMPORT_COMPANY_NAME</th>\n",
              "      <th>COUNTRY OF ORIGIN</th>\n",
              "      <th>FOB VALUE</th>\n",
              "      <th>HS CODE</th>\n",
              "    </tr>\n",
              "  </thead>\n",
              "  <tbody>\n",
              "    <tr>\n",
              "      <th>0</th>\n",
              "      <td>ADDL1090435</td>\n",
              "      <td>01.Mar.22</td>\n",
              "      <td>102079981</td>\n",
              "      <td>NR JOB DAUDI MASIMA</td>\n",
              "      <td>Israel</td>\n",
              "      <td>23097.10</td>\n",
              "      <td>420212000000</td>\n",
              "    </tr>\n",
              "    <tr>\n",
              "      <th>1</th>\n",
              "      <td>ADDL1089767</td>\n",
              "      <td>01.Mar.22</td>\n",
              "      <td>100103559</td>\n",
              "      <td>ESSEGEE HOUSEHOLD STORE LIMITED.</td>\n",
              "      <td>China</td>\n",
              "      <td>100599.86</td>\n",
              "      <td>820420000000</td>\n",
              "    </tr>\n",
              "    <tr>\n",
              "      <th>2</th>\n",
              "      <td>ADDA1091117</td>\n",
              "      <td>01.Mar.22</td>\n",
              "      <td>133069143</td>\n",
              "      <td>KENU EQUIPMENT LIMITED</td>\n",
              "      <td>United States</td>\n",
              "      <td>0.00</td>\n",
              "      <td>730792000000</td>\n",
              "    </tr>\n",
              "    <tr>\n",
              "      <th>3</th>\n",
              "      <td>ADDA1089579</td>\n",
              "      <td>01.Mar.22</td>\n",
              "      <td>142479281</td>\n",
              "      <td>NEE TECH &amp; SERVICES LIMITED</td>\n",
              "      <td>Japan</td>\n",
              "      <td>10462986.30</td>\n",
              "      <td>481690000000</td>\n",
              "    </tr>\n",
              "    <tr>\n",
              "      <th>4</th>\n",
              "      <td>ADDL1090103</td>\n",
              "      <td>01.Mar.22</td>\n",
              "      <td>107893245</td>\n",
              "      <td>unknown</td>\n",
              "      <td>China</td>\n",
              "      <td>523842.23</td>\n",
              "      <td>961511000000</td>\n",
              "    </tr>\n",
              "  </tbody>\n",
              "</table>\n",
              "</div>\n",
              "    <div class=\"colab-df-buttons\">\n",
              "\n",
              "  <div class=\"colab-df-container\">\n",
              "    <button class=\"colab-df-convert\" onclick=\"convertToInteractive('df-ddd7c19c-bfb9-470c-9b57-e6657d065fcc')\"\n",
              "            title=\"Convert this dataframe to an interactive table.\"\n",
              "            style=\"display:none;\">\n",
              "\n",
              "  <svg xmlns=\"http://www.w3.org/2000/svg\" height=\"24px\" viewBox=\"0 -960 960 960\">\n",
              "    <path d=\"M120-120v-720h720v720H120Zm60-500h600v-160H180v160Zm220 220h160v-160H400v160Zm0 220h160v-160H400v160ZM180-400h160v-160H180v160Zm440 0h160v-160H620v160ZM180-180h160v-160H180v160Zm440 0h160v-160H620v160Z\"/>\n",
              "  </svg>\n",
              "    </button>\n",
              "\n",
              "  <style>\n",
              "    .colab-df-container {\n",
              "      display:flex;\n",
              "      gap: 12px;\n",
              "    }\n",
              "\n",
              "    .colab-df-convert {\n",
              "      background-color: #E8F0FE;\n",
              "      border: none;\n",
              "      border-radius: 50%;\n",
              "      cursor: pointer;\n",
              "      display: none;\n",
              "      fill: #1967D2;\n",
              "      height: 32px;\n",
              "      padding: 0 0 0 0;\n",
              "      width: 32px;\n",
              "    }\n",
              "\n",
              "    .colab-df-convert:hover {\n",
              "      background-color: #E2EBFA;\n",
              "      box-shadow: 0px 1px 2px rgba(60, 64, 67, 0.3), 0px 1px 3px 1px rgba(60, 64, 67, 0.15);\n",
              "      fill: #174EA6;\n",
              "    }\n",
              "\n",
              "    .colab-df-buttons div {\n",
              "      margin-bottom: 4px;\n",
              "    }\n",
              "\n",
              "    [theme=dark] .colab-df-convert {\n",
              "      background-color: #3B4455;\n",
              "      fill: #D2E3FC;\n",
              "    }\n",
              "\n",
              "    [theme=dark] .colab-df-convert:hover {\n",
              "      background-color: #434B5C;\n",
              "      box-shadow: 0px 1px 3px 1px rgba(0, 0, 0, 0.15);\n",
              "      filter: drop-shadow(0px 1px 2px rgba(0, 0, 0, 0.3));\n",
              "      fill: #FFFFFF;\n",
              "    }\n",
              "  </style>\n",
              "\n",
              "    <script>\n",
              "      const buttonEl =\n",
              "        document.querySelector('#df-ddd7c19c-bfb9-470c-9b57-e6657d065fcc button.colab-df-convert');\n",
              "      buttonEl.style.display =\n",
              "        google.colab.kernel.accessAllowed ? 'block' : 'none';\n",
              "\n",
              "      async function convertToInteractive(key) {\n",
              "        const element = document.querySelector('#df-ddd7c19c-bfb9-470c-9b57-e6657d065fcc');\n",
              "        const dataTable =\n",
              "          await google.colab.kernel.invokeFunction('convertToInteractive',\n",
              "                                                    [key], {});\n",
              "        if (!dataTable) return;\n",
              "\n",
              "        const docLinkHtml = 'Like what you see? Visit the ' +\n",
              "          '<a target=\"_blank\" href=https://colab.research.google.com/notebooks/data_table.ipynb>data table notebook</a>'\n",
              "          + ' to learn more about interactive tables.';\n",
              "        element.innerHTML = '';\n",
              "        dataTable['output_type'] = 'display_data';\n",
              "        await google.colab.output.renderOutput(dataTable, element);\n",
              "        const docLink = document.createElement('div');\n",
              "        docLink.innerHTML = docLinkHtml;\n",
              "        element.appendChild(docLink);\n",
              "      }\n",
              "    </script>\n",
              "  </div>\n",
              "\n",
              "\n",
              "<div id=\"df-d1aef17c-859c-495e-9641-6db1c3042226\">\n",
              "  <button class=\"colab-df-quickchart\" onclick=\"quickchart('df-d1aef17c-859c-495e-9641-6db1c3042226')\"\n",
              "            title=\"Suggest charts.\"\n",
              "            style=\"display:none;\">\n",
              "\n",
              "<svg xmlns=\"http://www.w3.org/2000/svg\" height=\"24px\"viewBox=\"0 0 24 24\"\n",
              "     width=\"24px\">\n",
              "    <g>\n",
              "        <path d=\"M19 3H5c-1.1 0-2 .9-2 2v14c0 1.1.9 2 2 2h14c1.1 0 2-.9 2-2V5c0-1.1-.9-2-2-2zM9 17H7v-7h2v7zm4 0h-2V7h2v10zm4 0h-2v-4h2v4z\"/>\n",
              "    </g>\n",
              "</svg>\n",
              "  </button>\n",
              "\n",
              "<style>\n",
              "  .colab-df-quickchart {\n",
              "      --bg-color: #E8F0FE;\n",
              "      --fill-color: #1967D2;\n",
              "      --hover-bg-color: #E2EBFA;\n",
              "      --hover-fill-color: #174EA6;\n",
              "      --disabled-fill-color: #AAA;\n",
              "      --disabled-bg-color: #DDD;\n",
              "  }\n",
              "\n",
              "  [theme=dark] .colab-df-quickchart {\n",
              "      --bg-color: #3B4455;\n",
              "      --fill-color: #D2E3FC;\n",
              "      --hover-bg-color: #434B5C;\n",
              "      --hover-fill-color: #FFFFFF;\n",
              "      --disabled-bg-color: #3B4455;\n",
              "      --disabled-fill-color: #666;\n",
              "  }\n",
              "\n",
              "  .colab-df-quickchart {\n",
              "    background-color: var(--bg-color);\n",
              "    border: none;\n",
              "    border-radius: 50%;\n",
              "    cursor: pointer;\n",
              "    display: none;\n",
              "    fill: var(--fill-color);\n",
              "    height: 32px;\n",
              "    padding: 0;\n",
              "    width: 32px;\n",
              "  }\n",
              "\n",
              "  .colab-df-quickchart:hover {\n",
              "    background-color: var(--hover-bg-color);\n",
              "    box-shadow: 0 1px 2px rgba(60, 64, 67, 0.3), 0 1px 3px 1px rgba(60, 64, 67, 0.15);\n",
              "    fill: var(--button-hover-fill-color);\n",
              "  }\n",
              "\n",
              "  .colab-df-quickchart-complete:disabled,\n",
              "  .colab-df-quickchart-complete:disabled:hover {\n",
              "    background-color: var(--disabled-bg-color);\n",
              "    fill: var(--disabled-fill-color);\n",
              "    box-shadow: none;\n",
              "  }\n",
              "\n",
              "  .colab-df-spinner {\n",
              "    border: 2px solid var(--fill-color);\n",
              "    border-color: transparent;\n",
              "    border-bottom-color: var(--fill-color);\n",
              "    animation:\n",
              "      spin 1s steps(1) infinite;\n",
              "  }\n",
              "\n",
              "  @keyframes spin {\n",
              "    0% {\n",
              "      border-color: transparent;\n",
              "      border-bottom-color: var(--fill-color);\n",
              "      border-left-color: var(--fill-color);\n",
              "    }\n",
              "    20% {\n",
              "      border-color: transparent;\n",
              "      border-left-color: var(--fill-color);\n",
              "      border-top-color: var(--fill-color);\n",
              "    }\n",
              "    30% {\n",
              "      border-color: transparent;\n",
              "      border-left-color: var(--fill-color);\n",
              "      border-top-color: var(--fill-color);\n",
              "      border-right-color: var(--fill-color);\n",
              "    }\n",
              "    40% {\n",
              "      border-color: transparent;\n",
              "      border-right-color: var(--fill-color);\n",
              "      border-top-color: var(--fill-color);\n",
              "    }\n",
              "    60% {\n",
              "      border-color: transparent;\n",
              "      border-right-color: var(--fill-color);\n",
              "    }\n",
              "    80% {\n",
              "      border-color: transparent;\n",
              "      border-right-color: var(--fill-color);\n",
              "      border-bottom-color: var(--fill-color);\n",
              "    }\n",
              "    90% {\n",
              "      border-color: transparent;\n",
              "      border-bottom-color: var(--fill-color);\n",
              "    }\n",
              "  }\n",
              "</style>\n",
              "\n",
              "  <script>\n",
              "    async function quickchart(key) {\n",
              "      const quickchartButtonEl =\n",
              "        document.querySelector('#' + key + ' button');\n",
              "      quickchartButtonEl.disabled = true;  // To prevent multiple clicks.\n",
              "      quickchartButtonEl.classList.add('colab-df-spinner');\n",
              "      try {\n",
              "        const charts = await google.colab.kernel.invokeFunction(\n",
              "            'suggestCharts', [key], {});\n",
              "      } catch (error) {\n",
              "        console.error('Error during call to suggestCharts:', error);\n",
              "      }\n",
              "      quickchartButtonEl.classList.remove('colab-df-spinner');\n",
              "      quickchartButtonEl.classList.add('colab-df-quickchart-complete');\n",
              "    }\n",
              "    (() => {\n",
              "      let quickchartButtonEl =\n",
              "        document.querySelector('#df-d1aef17c-859c-495e-9641-6db1c3042226 button');\n",
              "      quickchartButtonEl.style.display =\n",
              "        google.colab.kernel.accessAllowed ? 'block' : 'none';\n",
              "    })();\n",
              "  </script>\n",
              "</div>\n",
              "    </div>\n",
              "  </div>\n"
            ]
          },
          "metadata": {},
          "execution_count": 13
        }
      ]
    },
    {
      "cell_type": "code",
      "source": [
        "# Creating a one-hot encoded matrix. Apriori requires data in this format.\n",
        "basket = (df.groupby(['DECLARATION ID', 'HS CODE'])['HS CODE']\n",
        "          .count().unstack().reset_index().fillna(0)\n",
        "          .set_index('DECLARATION ID'))"
      ],
      "metadata": {
        "colab": {
          "base_uri": "https://localhost:8080/"
        },
        "id": "J8EM8IPa3Bad",
        "outputId": "683fb760-2592-400a-e9c3-e4269f73ad71"
      },
      "execution_count": null,
      "outputs": [
        {
          "output_type": "stream",
          "name": "stderr",
          "text": [
            "/usr/local/lib/python3.10/dist-packages/ipykernel/ipkernel.py:283: DeprecationWarning: `should_run_async` will not call `transform_cell` automatically in the future. Please pass the result to `transformed_cell` argument and any exception that happen during thetransform in `preprocessing_exc_tuple` in IPython 7.17 and above.\n",
            "  and should_run_async(code)\n"
          ]
        }
      ]
    },
    {
      "cell_type": "code",
      "source": [
        "# Converting all non-zero counts to 1 for one-hot encoding\n",
        "def encode_units(x):\n",
        "    if x <= 0:\n",
        "        return 0\n",
        "    if x >= 1:\n",
        "        return 1\n",
        "\n",
        "# Applying the encoding function to the dataset\n",
        "basket_sets = basket.applymap(encode_units)"
      ],
      "metadata": {
        "colab": {
          "base_uri": "https://localhost:8080/"
        },
        "id": "bHgdn8kh3IM1",
        "outputId": "5d2017f5-54a8-449d-878b-d6ea9a7ad466"
      },
      "execution_count": null,
      "outputs": [
        {
          "output_type": "stream",
          "name": "stderr",
          "text": [
            "/usr/local/lib/python3.10/dist-packages/ipykernel/ipkernel.py:283: DeprecationWarning: `should_run_async` will not call `transform_cell` automatically in the future. Please pass the result to `transformed_cell` argument and any exception that happen during thetransform in `preprocessing_exc_tuple` in IPython 7.17 and above.\n",
            "  and should_run_async(code)\n"
          ]
        }
      ]
    },
    {
      "cell_type": "markdown",
      "source": [
        "The error message suggests that the DataFrame frequent_itemsets generated by the Apriori algorithm is empty. This can happen if the min_support parameter is set too high, meaning that no itemsets meet that threshold, hence generating an empty DataFrame. Now we need to adjust the parameter to get a better output.\n",
        "\n"
      ],
      "metadata": {
        "id": "Q9k9A0zY4I3w"
      }
    },
    {
      "cell_type": "code",
      "source": [
        "# Generating frequent itemsets using Apriori algorithm\n",
        "frequent_itemsets = apriori(basket_sets, min_support=0.07, use_colnames=True)\n",
        "\n",
        "# Creating association rules from the frequent itemsets\n",
        "rules = association_rules(frequent_itemsets, metric=\"lift\", min_threshold=0.7)"
      ],
      "metadata": {
        "colab": {
          "base_uri": "https://localhost:8080/",
          "height": 432
        },
        "id": "bi3crUBjum0-",
        "outputId": "1f4868af-e1e8-4a3f-f54d-55337a2a1d95"
      },
      "execution_count": null,
      "outputs": [
        {
          "output_type": "stream",
          "name": "stderr",
          "text": [
            "/usr/local/lib/python3.10/dist-packages/ipykernel/ipkernel.py:283: DeprecationWarning: `should_run_async` will not call `transform_cell` automatically in the future. Please pass the result to `transformed_cell` argument and any exception that happen during thetransform in `preprocessing_exc_tuple` in IPython 7.17 and above.\n",
            "  and should_run_async(code)\n",
            "/usr/local/lib/python3.10/dist-packages/mlxtend/frequent_patterns/fpcommon.py:110: DeprecationWarning: DataFrames with non-bool types result in worse computationalperformance and their support might be discontinued in the future.Please use a DataFrame with bool type\n",
            "  warnings.warn(\n"
          ]
        },
        {
          "output_type": "error",
          "ename": "ValueError",
          "evalue": "ignored",
          "traceback": [
            "\u001b[0;31m---------------------------------------------------------------------------\u001b[0m",
            "\u001b[0;31mValueError\u001b[0m                                Traceback (most recent call last)",
            "\u001b[0;32m<ipython-input-26-96dca56f8af9>\u001b[0m in \u001b[0;36m<cell line: 5>\u001b[0;34m()\u001b[0m\n\u001b[1;32m      3\u001b[0m \u001b[0;34m\u001b[0m\u001b[0m\n\u001b[1;32m      4\u001b[0m \u001b[0;31m# Creating association rules from the frequent itemsets\u001b[0m\u001b[0;34m\u001b[0m\u001b[0;34m\u001b[0m\u001b[0m\n\u001b[0;32m----> 5\u001b[0;31m \u001b[0mrules\u001b[0m \u001b[0;34m=\u001b[0m \u001b[0massociation_rules\u001b[0m\u001b[0;34m(\u001b[0m\u001b[0mfrequent_itemsets\u001b[0m\u001b[0;34m,\u001b[0m \u001b[0mmetric\u001b[0m\u001b[0;34m=\u001b[0m\u001b[0;34m\"lift\"\u001b[0m\u001b[0;34m,\u001b[0m \u001b[0mmin_threshold\u001b[0m\u001b[0;34m=\u001b[0m\u001b[0;36m0.7\u001b[0m\u001b[0;34m)\u001b[0m\u001b[0;34m\u001b[0m\u001b[0;34m\u001b[0m\u001b[0m\n\u001b[0m",
            "\u001b[0;32m/usr/local/lib/python3.10/dist-packages/mlxtend/frequent_patterns/association_rules.py\u001b[0m in \u001b[0;36massociation_rules\u001b[0;34m(df, metric, min_threshold, support_only)\u001b[0m\n\u001b[1;32m     81\u001b[0m     \"\"\"\n\u001b[1;32m     82\u001b[0m     \u001b[0;32mif\u001b[0m \u001b[0;32mnot\u001b[0m \u001b[0mdf\u001b[0m\u001b[0;34m.\u001b[0m\u001b[0mshape\u001b[0m\u001b[0;34m[\u001b[0m\u001b[0;36m0\u001b[0m\u001b[0;34m]\u001b[0m\u001b[0;34m:\u001b[0m\u001b[0;34m\u001b[0m\u001b[0;34m\u001b[0m\u001b[0m\n\u001b[0;32m---> 83\u001b[0;31m         raise ValueError(\n\u001b[0m\u001b[1;32m     84\u001b[0m             \u001b[0;34m\"The input DataFrame `df` containing \"\u001b[0m \u001b[0;34m\"the frequent itemsets is empty.\"\u001b[0m\u001b[0;34m\u001b[0m\u001b[0;34m\u001b[0m\u001b[0m\n\u001b[1;32m     85\u001b[0m         )\n",
            "\u001b[0;31mValueError\u001b[0m: The input DataFrame `df` containing the frequent itemsets is empty."
          ]
        }
      ]
    },
    {
      "cell_type": "code",
      "source": [
        "best_rules = None\n",
        "best_metric_value = -1\n",
        "best_support = 0\n",
        "best_threshold = 0\n",
        "\n",
        "# Assuming one_hot_df is your one-hot encoded DataFrame\n",
        "# Loop through different min_support values\n",
        "for min_support in np.linspace(0.001, 0.2, 20):  # Adjust the range and step size as necessary\n",
        "    frequent_itemsets = apriori(basket_sets, min_support=min_support, use_colnames=True)\n",
        "\n",
        "    # If frequent_itemsets are empty, continue to the next iteration\n",
        "    if frequent_itemsets.shape[0] == 0:\n",
        "        continue\n",
        "\n",
        "    # Loop through different min_threshold values\n",
        "    for min_threshold in np.linspace(0.1, 3, 30):  # Adjust the range and step size as necessary\n",
        "        rules = association_rules(frequent_itemsets, metric=\"lift\", min_threshold=min_threshold)\n",
        "\n",
        "        # If rules are empty, continue to the next iteration\n",
        "        if rules.shape[0] == 0:\n",
        "            continue\n",
        "\n",
        "        # Here, you can define what 'valuable' means to you; in this example, I use 'max(lift)'\n",
        "        metric_value = rules['lift'].max()\n",
        "\n",
        "        if metric_value > best_metric_value:\n",
        "            best_rules = rules\n",
        "            best_metric_value = metric_value\n",
        "            best_support = min_support\n",
        "            best_threshold = min_threshold\n",
        "\n",
        "print(best_rules)\n",
        "print(f'Best min_support: {best_support}, Best min_threshold: {best_threshold}')\n",
        "print(f'Max lift value: {best_metric_value}')"
      ],
      "metadata": {
        "colab": {
          "base_uri": "https://localhost:8080/"
        },
        "id": "vGrYB3ul6P-Z",
        "outputId": "ffb9fa98-43ae-4855-cea8-b1c7e8a892dd"
      },
      "execution_count": null,
      "outputs": [
        {
          "output_type": "stream",
          "name": "stderr",
          "text": [
            "/usr/local/lib/python3.10/dist-packages/ipykernel/ipkernel.py:283: DeprecationWarning: `should_run_async` will not call `transform_cell` automatically in the future. Please pass the result to `transformed_cell` argument and any exception that happen during thetransform in `preprocessing_exc_tuple` in IPython 7.17 and above.\n",
            "  and should_run_async(code)\n",
            "/usr/local/lib/python3.10/dist-packages/mlxtend/frequent_patterns/fpcommon.py:110: DeprecationWarning: DataFrames with non-bool types result in worse computationalperformance and their support might be discontinued in the future.Please use a DataFrame with bool type\n",
            "  warnings.warn(\n",
            "/usr/local/lib/python3.10/dist-packages/mlxtend/frequent_patterns/fpcommon.py:110: DeprecationWarning: DataFrames with non-bool types result in worse computationalperformance and their support might be discontinued in the future.Please use a DataFrame with bool type\n",
            "  warnings.warn(\n",
            "/usr/local/lib/python3.10/dist-packages/mlxtend/frequent_patterns/fpcommon.py:110: DeprecationWarning: DataFrames with non-bool types result in worse computationalperformance and their support might be discontinued in the future.Please use a DataFrame with bool type\n",
            "  warnings.warn(\n",
            "/usr/local/lib/python3.10/dist-packages/mlxtend/frequent_patterns/fpcommon.py:110: DeprecationWarning: DataFrames with non-bool types result in worse computationalperformance and their support might be discontinued in the future.Please use a DataFrame with bool type\n",
            "  warnings.warn(\n",
            "/usr/local/lib/python3.10/dist-packages/mlxtend/frequent_patterns/fpcommon.py:110: DeprecationWarning: DataFrames with non-bool types result in worse computationalperformance and their support might be discontinued in the future.Please use a DataFrame with bool type\n",
            "  warnings.warn(\n",
            "/usr/local/lib/python3.10/dist-packages/mlxtend/frequent_patterns/fpcommon.py:110: DeprecationWarning: DataFrames with non-bool types result in worse computationalperformance and their support might be discontinued in the future.Please use a DataFrame with bool type\n",
            "  warnings.warn(\n",
            "/usr/local/lib/python3.10/dist-packages/mlxtend/frequent_patterns/fpcommon.py:110: DeprecationWarning: DataFrames with non-bool types result in worse computationalperformance and their support might be discontinued in the future.Please use a DataFrame with bool type\n",
            "  warnings.warn(\n",
            "/usr/local/lib/python3.10/dist-packages/mlxtend/frequent_patterns/fpcommon.py:110: DeprecationWarning: DataFrames with non-bool types result in worse computationalperformance and their support might be discontinued in the future.Please use a DataFrame with bool type\n",
            "  warnings.warn(\n",
            "/usr/local/lib/python3.10/dist-packages/mlxtend/frequent_patterns/fpcommon.py:110: DeprecationWarning: DataFrames with non-bool types result in worse computationalperformance and their support might be discontinued in the future.Please use a DataFrame with bool type\n",
            "  warnings.warn(\n",
            "/usr/local/lib/python3.10/dist-packages/mlxtend/frequent_patterns/fpcommon.py:110: DeprecationWarning: DataFrames with non-bool types result in worse computationalperformance and their support might be discontinued in the future.Please use a DataFrame with bool type\n",
            "  warnings.warn(\n",
            "/usr/local/lib/python3.10/dist-packages/mlxtend/frequent_patterns/fpcommon.py:110: DeprecationWarning: DataFrames with non-bool types result in worse computationalperformance and their support might be discontinued in the future.Please use a DataFrame with bool type\n",
            "  warnings.warn(\n",
            "/usr/local/lib/python3.10/dist-packages/mlxtend/frequent_patterns/fpcommon.py:110: DeprecationWarning: DataFrames with non-bool types result in worse computationalperformance and their support might be discontinued in the future.Please use a DataFrame with bool type\n",
            "  warnings.warn(\n",
            "/usr/local/lib/python3.10/dist-packages/mlxtend/frequent_patterns/fpcommon.py:110: DeprecationWarning: DataFrames with non-bool types result in worse computationalperformance and their support might be discontinued in the future.Please use a DataFrame with bool type\n",
            "  warnings.warn(\n",
            "/usr/local/lib/python3.10/dist-packages/mlxtend/frequent_patterns/fpcommon.py:110: DeprecationWarning: DataFrames with non-bool types result in worse computationalperformance and their support might be discontinued in the future.Please use a DataFrame with bool type\n",
            "  warnings.warn(\n",
            "/usr/local/lib/python3.10/dist-packages/mlxtend/frequent_patterns/fpcommon.py:110: DeprecationWarning: DataFrames with non-bool types result in worse computationalperformance and their support might be discontinued in the future.Please use a DataFrame with bool type\n",
            "  warnings.warn(\n"
          ]
        },
        {
          "output_type": "stream",
          "name": "stdout",
          "text": [
            "         antecedents                                        consequents  \\\n",
            "0      (40299000000)                                      (40310000000)   \n",
            "1      (40310000000)                                      (40299000000)   \n",
            "2      (40690000000)                                      (40299000000)   \n",
            "3      (40299000000)                                      (40690000000)   \n",
            "4     (180690000000)                                      (40299000000)   \n",
            "...              ...                                                ...   \n",
            "3377  (610342000000)  (620342000000, 611120000000, 621210000000, 640...   \n",
            "3378  (621210000000)  (620342000000, 611120000000, 610342000000, 640...   \n",
            "3379  (610711000000)  (620342000000, 611120000000, 610342000000, 621...   \n",
            "3380  (640419000000)  (620342000000, 611120000000, 610342000000, 621...   \n",
            "3381  (610910000000)  (620342000000, 611120000000, 610342000000, 621...   \n",
            "\n",
            "      antecedent support  consequent support   support  confidence  \\\n",
            "0               0.001188            0.001188  0.001188    1.000000   \n",
            "1               0.001188            0.001188  0.001188    1.000000   \n",
            "2               0.001485            0.001188  0.001188    0.800000   \n",
            "3               0.001188            0.001485  0.001188    1.000000   \n",
            "4               0.001485            0.001188  0.001188    0.800000   \n",
            "...                  ...                 ...       ...         ...   \n",
            "3377            0.001485            0.001188  0.001188    0.800000   \n",
            "3378            0.002080            0.001188  0.001188    0.571429   \n",
            "3379            0.001783            0.001188  0.001188    0.666667   \n",
            "3380            0.003268            0.001188  0.001188    0.363636   \n",
            "3381            0.004159            0.001188  0.001188    0.285714   \n",
            "\n",
            "            lift  leverage  conviction  zhangs_metric  \n",
            "0     841.500000  0.001187         inf       1.000000  \n",
            "1     841.500000  0.001187         inf       1.000000  \n",
            "2     673.200000  0.001187    4.994058       1.000000  \n",
            "3     673.200000  0.001187         inf       0.999703  \n",
            "4     673.200000  0.001187    4.994058       1.000000  \n",
            "...          ...       ...         ...            ...  \n",
            "3377  673.200000  0.001187    4.994058       1.000000  \n",
            "3378  480.857143  0.001186    2.330561       1.000000  \n",
            "3379  561.000000  0.001186    2.996435       1.000000  \n",
            "3380  306.000000  0.001184    1.569561       1.000000  \n",
            "3381  240.428571  0.001183    1.398336       1.000000  \n",
            "\n",
            "[3382 rows x 10 columns]\n",
            "Best min_support: 0.001, Best min_threshold: 0.1\n",
            "Max lift value: 841.5\n"
          ]
        },
        {
          "output_type": "stream",
          "name": "stderr",
          "text": [
            "/usr/local/lib/python3.10/dist-packages/mlxtend/frequent_patterns/fpcommon.py:110: DeprecationWarning: DataFrames with non-bool types result in worse computationalperformance and their support might be discontinued in the future.Please use a DataFrame with bool type\n",
            "  warnings.warn(\n",
            "/usr/local/lib/python3.10/dist-packages/mlxtend/frequent_patterns/fpcommon.py:110: DeprecationWarning: DataFrames with non-bool types result in worse computationalperformance and their support might be discontinued in the future.Please use a DataFrame with bool type\n",
            "  warnings.warn(\n",
            "/usr/local/lib/python3.10/dist-packages/mlxtend/frequent_patterns/fpcommon.py:110: DeprecationWarning: DataFrames with non-bool types result in worse computationalperformance and their support might be discontinued in the future.Please use a DataFrame with bool type\n",
            "  warnings.warn(\n",
            "/usr/local/lib/python3.10/dist-packages/mlxtend/frequent_patterns/fpcommon.py:110: DeprecationWarning: DataFrames with non-bool types result in worse computationalperformance and their support might be discontinued in the future.Please use a DataFrame with bool type\n",
            "  warnings.warn(\n",
            "/usr/local/lib/python3.10/dist-packages/mlxtend/frequent_patterns/fpcommon.py:110: DeprecationWarning: DataFrames with non-bool types result in worse computationalperformance and their support might be discontinued in the future.Please use a DataFrame with bool type\n",
            "  warnings.warn(\n"
          ]
        }
      ]
    },
    {
      "cell_type": "code",
      "source": [
        "# Generating frequent itemsets using Apriori algorithm\n",
        "frequent_itemsets = apriori(basket_sets, min_support=0.001, use_colnames=True)\n",
        "\n",
        "# Creating association rules from the frequent itemsets\n",
        "rules = association_rules(frequent_itemsets, metric=\"lift\", min_threshold=0.1)"
      ],
      "metadata": {
        "colab": {
          "base_uri": "https://localhost:8080/"
        },
        "id": "NMOolhGg7Y-i",
        "outputId": "c0e0422f-5cc0-46c7-d7a9-94792a3c88e7"
      },
      "execution_count": null,
      "outputs": [
        {
          "metadata": {
            "tags": null
          },
          "name": "stderr",
          "output_type": "stream",
          "text": [
            "/usr/local/lib/python3.10/dist-packages/ipykernel/ipkernel.py:283: DeprecationWarning: `should_run_async` will not call `transform_cell` automatically in the future. Please pass the result to `transformed_cell` argument and any exception that happen during thetransform in `preprocessing_exc_tuple` in IPython 7.17 and above.\n",
            "  and should_run_async(code)\n",
            "/usr/local/lib/python3.10/dist-packages/mlxtend/frequent_patterns/fpcommon.py:110: DeprecationWarning: DataFrames with non-bool types result in worse computationalperformance and their support might be discontinued in the future.Please use a DataFrame with bool type\n",
            "  warnings.warn(\n"
          ]
        }
      ]
    },
    {
      "cell_type": "code",
      "source": [
        "rules.head()"
      ],
      "metadata": {
        "colab": {
          "base_uri": "https://localhost:8080/",
          "height": 275
        },
        "id": "S_G7GD1C7dCo",
        "outputId": "55ff3eec-367a-4845-98a9-1c9196e88906"
      },
      "execution_count": null,
      "outputs": [
        {
          "metadata": {
            "tags": null
          },
          "name": "stderr",
          "output_type": "stream",
          "text": [
            "/usr/local/lib/python3.10/dist-packages/ipykernel/ipkernel.py:283: DeprecationWarning: `should_run_async` will not call `transform_cell` automatically in the future. Please pass the result to `transformed_cell` argument and any exception that happen during thetransform in `preprocessing_exc_tuple` in IPython 7.17 and above.\n",
            "  and should_run_async(code)\n"
          ]
        },
        {
          "data": {
            "text/html": [
              "\n",
              "  <div id=\"df-9d3736e4-8e4a-4106-b4ce-6943f41715c7\" class=\"colab-df-container\">\n",
              "    <div>\n",
              "<style scoped>\n",
              "    .dataframe tbody tr th:only-of-type {\n",
              "        vertical-align: middle;\n",
              "    }\n",
              "\n",
              "    .dataframe tbody tr th {\n",
              "        vertical-align: top;\n",
              "    }\n",
              "\n",
              "    .dataframe thead th {\n",
              "        text-align: right;\n",
              "    }\n",
              "</style>\n",
              "<table border=\"1\" class=\"dataframe\">\n",
              "  <thead>\n",
              "    <tr style=\"text-align: right;\">\n",
              "      <th></th>\n",
              "      <th>antecedents</th>\n",
              "      <th>consequents</th>\n",
              "      <th>antecedent support</th>\n",
              "      <th>consequent support</th>\n",
              "      <th>support</th>\n",
              "      <th>confidence</th>\n",
              "      <th>lift</th>\n",
              "      <th>leverage</th>\n",
              "      <th>conviction</th>\n",
              "      <th>zhangs_metric</th>\n",
              "    </tr>\n",
              "  </thead>\n",
              "  <tbody>\n",
              "    <tr>\n",
              "      <th>0</th>\n",
              "      <td>(40299000000)</td>\n",
              "      <td>(40310000000)</td>\n",
              "      <td>0.001188</td>\n",
              "      <td>0.001188</td>\n",
              "      <td>0.001188</td>\n",
              "      <td>1.0</td>\n",
              "      <td>841.5</td>\n",
              "      <td>0.001187</td>\n",
              "      <td>inf</td>\n",
              "      <td>1.000000</td>\n",
              "    </tr>\n",
              "    <tr>\n",
              "      <th>1</th>\n",
              "      <td>(40310000000)</td>\n",
              "      <td>(40299000000)</td>\n",
              "      <td>0.001188</td>\n",
              "      <td>0.001188</td>\n",
              "      <td>0.001188</td>\n",
              "      <td>1.0</td>\n",
              "      <td>841.5</td>\n",
              "      <td>0.001187</td>\n",
              "      <td>inf</td>\n",
              "      <td>1.000000</td>\n",
              "    </tr>\n",
              "    <tr>\n",
              "      <th>2</th>\n",
              "      <td>(40690000000)</td>\n",
              "      <td>(40299000000)</td>\n",
              "      <td>0.001485</td>\n",
              "      <td>0.001188</td>\n",
              "      <td>0.001188</td>\n",
              "      <td>0.8</td>\n",
              "      <td>673.2</td>\n",
              "      <td>0.001187</td>\n",
              "      <td>4.994058</td>\n",
              "      <td>1.000000</td>\n",
              "    </tr>\n",
              "    <tr>\n",
              "      <th>3</th>\n",
              "      <td>(40299000000)</td>\n",
              "      <td>(40690000000)</td>\n",
              "      <td>0.001188</td>\n",
              "      <td>0.001485</td>\n",
              "      <td>0.001188</td>\n",
              "      <td>1.0</td>\n",
              "      <td>673.2</td>\n",
              "      <td>0.001187</td>\n",
              "      <td>inf</td>\n",
              "      <td>0.999703</td>\n",
              "    </tr>\n",
              "    <tr>\n",
              "      <th>4</th>\n",
              "      <td>(180690000000)</td>\n",
              "      <td>(40299000000)</td>\n",
              "      <td>0.001485</td>\n",
              "      <td>0.001188</td>\n",
              "      <td>0.001188</td>\n",
              "      <td>0.8</td>\n",
              "      <td>673.2</td>\n",
              "      <td>0.001187</td>\n",
              "      <td>4.994058</td>\n",
              "      <td>1.000000</td>\n",
              "    </tr>\n",
              "  </tbody>\n",
              "</table>\n",
              "</div>\n",
              "    <div class=\"colab-df-buttons\">\n",
              "\n",
              "  <div class=\"colab-df-container\">\n",
              "    <button class=\"colab-df-convert\" onclick=\"convertToInteractive('df-9d3736e4-8e4a-4106-b4ce-6943f41715c7')\"\n",
              "            title=\"Convert this dataframe to an interactive table.\"\n",
              "            style=\"display:none;\">\n",
              "\n",
              "  <svg xmlns=\"http://www.w3.org/2000/svg\" height=\"24px\" viewBox=\"0 -960 960 960\">\n",
              "    <path d=\"M120-120v-720h720v720H120Zm60-500h600v-160H180v160Zm220 220h160v-160H400v160Zm0 220h160v-160H400v160ZM180-400h160v-160H180v160Zm440 0h160v-160H620v160ZM180-180h160v-160H180v160Zm440 0h160v-160H620v160Z\"/>\n",
              "  </svg>\n",
              "    </button>\n",
              "\n",
              "  <style>\n",
              "    .colab-df-container {\n",
              "      display:flex;\n",
              "      gap: 12px;\n",
              "    }\n",
              "\n",
              "    .colab-df-convert {\n",
              "      background-color: #E8F0FE;\n",
              "      border: none;\n",
              "      border-radius: 50%;\n",
              "      cursor: pointer;\n",
              "      display: none;\n",
              "      fill: #1967D2;\n",
              "      height: 32px;\n",
              "      padding: 0 0 0 0;\n",
              "      width: 32px;\n",
              "    }\n",
              "\n",
              "    .colab-df-convert:hover {\n",
              "      background-color: #E2EBFA;\n",
              "      box-shadow: 0px 1px 2px rgba(60, 64, 67, 0.3), 0px 1px 3px 1px rgba(60, 64, 67, 0.15);\n",
              "      fill: #174EA6;\n",
              "    }\n",
              "\n",
              "    .colab-df-buttons div {\n",
              "      margin-bottom: 4px;\n",
              "    }\n",
              "\n",
              "    [theme=dark] .colab-df-convert {\n",
              "      background-color: #3B4455;\n",
              "      fill: #D2E3FC;\n",
              "    }\n",
              "\n",
              "    [theme=dark] .colab-df-convert:hover {\n",
              "      background-color: #434B5C;\n",
              "      box-shadow: 0px 1px 3px 1px rgba(0, 0, 0, 0.15);\n",
              "      filter: drop-shadow(0px 1px 2px rgba(0, 0, 0, 0.3));\n",
              "      fill: #FFFFFF;\n",
              "    }\n",
              "  </style>\n",
              "\n",
              "    <script>\n",
              "      const buttonEl =\n",
              "        document.querySelector('#df-9d3736e4-8e4a-4106-b4ce-6943f41715c7 button.colab-df-convert');\n",
              "      buttonEl.style.display =\n",
              "        google.colab.kernel.accessAllowed ? 'block' : 'none';\n",
              "\n",
              "      async function convertToInteractive(key) {\n",
              "        const element = document.querySelector('#df-9d3736e4-8e4a-4106-b4ce-6943f41715c7');\n",
              "        const dataTable =\n",
              "          await google.colab.kernel.invokeFunction('convertToInteractive',\n",
              "                                                    [key], {});\n",
              "        if (!dataTable) return;\n",
              "\n",
              "        const docLinkHtml = 'Like what you see? Visit the ' +\n",
              "          '<a target=\"_blank\" href=https://colab.research.google.com/notebooks/data_table.ipynb>data table notebook</a>'\n",
              "          + ' to learn more about interactive tables.';\n",
              "        element.innerHTML = '';\n",
              "        dataTable['output_type'] = 'display_data';\n",
              "        await google.colab.output.renderOutput(dataTable, element);\n",
              "        const docLink = document.createElement('div');\n",
              "        docLink.innerHTML = docLinkHtml;\n",
              "        element.appendChild(docLink);\n",
              "      }\n",
              "    </script>\n",
              "  </div>\n",
              "\n",
              "\n",
              "<div id=\"df-fc99671d-7ece-4509-ad89-31189c08282e\">\n",
              "  <button class=\"colab-df-quickchart\" onclick=\"quickchart('df-fc99671d-7ece-4509-ad89-31189c08282e')\"\n",
              "            title=\"Suggest charts.\"\n",
              "            style=\"display:none;\">\n",
              "\n",
              "<svg xmlns=\"http://www.w3.org/2000/svg\" height=\"24px\"viewBox=\"0 0 24 24\"\n",
              "     width=\"24px\">\n",
              "    <g>\n",
              "        <path d=\"M19 3H5c-1.1 0-2 .9-2 2v14c0 1.1.9 2 2 2h14c1.1 0 2-.9 2-2V5c0-1.1-.9-2-2-2zM9 17H7v-7h2v7zm4 0h-2V7h2v10zm4 0h-2v-4h2v4z\"/>\n",
              "    </g>\n",
              "</svg>\n",
              "  </button>\n",
              "\n",
              "<style>\n",
              "  .colab-df-quickchart {\n",
              "      --bg-color: #E8F0FE;\n",
              "      --fill-color: #1967D2;\n",
              "      --hover-bg-color: #E2EBFA;\n",
              "      --hover-fill-color: #174EA6;\n",
              "      --disabled-fill-color: #AAA;\n",
              "      --disabled-bg-color: #DDD;\n",
              "  }\n",
              "\n",
              "  [theme=dark] .colab-df-quickchart {\n",
              "      --bg-color: #3B4455;\n",
              "      --fill-color: #D2E3FC;\n",
              "      --hover-bg-color: #434B5C;\n",
              "      --hover-fill-color: #FFFFFF;\n",
              "      --disabled-bg-color: #3B4455;\n",
              "      --disabled-fill-color: #666;\n",
              "  }\n",
              "\n",
              "  .colab-df-quickchart {\n",
              "    background-color: var(--bg-color);\n",
              "    border: none;\n",
              "    border-radius: 50%;\n",
              "    cursor: pointer;\n",
              "    display: none;\n",
              "    fill: var(--fill-color);\n",
              "    height: 32px;\n",
              "    padding: 0;\n",
              "    width: 32px;\n",
              "  }\n",
              "\n",
              "  .colab-df-quickchart:hover {\n",
              "    background-color: var(--hover-bg-color);\n",
              "    box-shadow: 0 1px 2px rgba(60, 64, 67, 0.3), 0 1px 3px 1px rgba(60, 64, 67, 0.15);\n",
              "    fill: var(--button-hover-fill-color);\n",
              "  }\n",
              "\n",
              "  .colab-df-quickchart-complete:disabled,\n",
              "  .colab-df-quickchart-complete:disabled:hover {\n",
              "    background-color: var(--disabled-bg-color);\n",
              "    fill: var(--disabled-fill-color);\n",
              "    box-shadow: none;\n",
              "  }\n",
              "\n",
              "  .colab-df-spinner {\n",
              "    border: 2px solid var(--fill-color);\n",
              "    border-color: transparent;\n",
              "    border-bottom-color: var(--fill-color);\n",
              "    animation:\n",
              "      spin 1s steps(1) infinite;\n",
              "  }\n",
              "\n",
              "  @keyframes spin {\n",
              "    0% {\n",
              "      border-color: transparent;\n",
              "      border-bottom-color: var(--fill-color);\n",
              "      border-left-color: var(--fill-color);\n",
              "    }\n",
              "    20% {\n",
              "      border-color: transparent;\n",
              "      border-left-color: var(--fill-color);\n",
              "      border-top-color: var(--fill-color);\n",
              "    }\n",
              "    30% {\n",
              "      border-color: transparent;\n",
              "      border-left-color: var(--fill-color);\n",
              "      border-top-color: var(--fill-color);\n",
              "      border-right-color: var(--fill-color);\n",
              "    }\n",
              "    40% {\n",
              "      border-color: transparent;\n",
              "      border-right-color: var(--fill-color);\n",
              "      border-top-color: var(--fill-color);\n",
              "    }\n",
              "    60% {\n",
              "      border-color: transparent;\n",
              "      border-right-color: var(--fill-color);\n",
              "    }\n",
              "    80% {\n",
              "      border-color: transparent;\n",
              "      border-right-color: var(--fill-color);\n",
              "      border-bottom-color: var(--fill-color);\n",
              "    }\n",
              "    90% {\n",
              "      border-color: transparent;\n",
              "      border-bottom-color: var(--fill-color);\n",
              "    }\n",
              "  }\n",
              "</style>\n",
              "\n",
              "  <script>\n",
              "    async function quickchart(key) {\n",
              "      const quickchartButtonEl =\n",
              "        document.querySelector('#' + key + ' button');\n",
              "      quickchartButtonEl.disabled = true;  // To prevent multiple clicks.\n",
              "      quickchartButtonEl.classList.add('colab-df-spinner');\n",
              "      try {\n",
              "        const charts = await google.colab.kernel.invokeFunction(\n",
              "            'suggestCharts', [key], {});\n",
              "      } catch (error) {\n",
              "        console.error('Error during call to suggestCharts:', error);\n",
              "      }\n",
              "      quickchartButtonEl.classList.remove('colab-df-spinner');\n",
              "      quickchartButtonEl.classList.add('colab-df-quickchart-complete');\n",
              "    }\n",
              "    (() => {\n",
              "      let quickchartButtonEl =\n",
              "        document.querySelector('#df-fc99671d-7ece-4509-ad89-31189c08282e button');\n",
              "      quickchartButtonEl.style.display =\n",
              "        google.colab.kernel.accessAllowed ? 'block' : 'none';\n",
              "    })();\n",
              "  </script>\n",
              "</div>\n",
              "    </div>\n",
              "  </div>\n"
            ],
            "text/plain": [
              "      antecedents    consequents  antecedent support  consequent support  \\\n",
              "0   (40299000000)  (40310000000)            0.001188            0.001188   \n",
              "1   (40310000000)  (40299000000)            0.001188            0.001188   \n",
              "2   (40690000000)  (40299000000)            0.001485            0.001188   \n",
              "3   (40299000000)  (40690000000)            0.001188            0.001485   \n",
              "4  (180690000000)  (40299000000)            0.001485            0.001188   \n",
              "\n",
              "    support  confidence   lift  leverage  conviction  zhangs_metric  \n",
              "0  0.001188         1.0  841.5  0.001187         inf       1.000000  \n",
              "1  0.001188         1.0  841.5  0.001187         inf       1.000000  \n",
              "2  0.001188         0.8  673.2  0.001187    4.994058       1.000000  \n",
              "3  0.001188         1.0  673.2  0.001187         inf       0.999703  \n",
              "4  0.001188         0.8  673.2  0.001187    4.994058       1.000000  "
            ]
          },
          "execution_count": 20,
          "metadata": {},
          "output_type": "execute_result"
        }
      ]
    },
    {
      "cell_type": "markdown",
      "source": [
        "The highlight_metrics function colors cells in the 'lift' and 'confidence' columns yellow if their values are greater than 1, to make them easily identifiable.\n",
        "\n",
        "Confidence\n",
        "Confidence measures the likelihood of the consequent (output or result item) occurring given the antecedent (input or condition item). In other words, it quantifies how often a rule is expected to be true. Mathematically, it's defined as:\n",
        "\n",
        "$$\n",
        "\\text{Confidence}(A \\rightarrow B) = \\frac{\\text{Support}(A \\cup B)}{\\text{Support}(A)}\n",
        "$$\n",
        "\n",
        "\n",
        "\n",
        "A confidence of 1 means that the antecedent and consequent always appear together in the dataset. However, high confidence does not necessarily imply a strong, useful rule; it may simply indicate a common occurrence.\n",
        "\n",
        "Lift\n",
        "Lift measures how much more likely the antecedent and consequent occur together compared to if they were statistically independent. Lift is defined as:\n",
        "\n",
        "$$\n",
        "\\text{Lift}(A \\rightarrow B) = \\frac{\\text{Confidence}(A \\rightarrow B)}{\\text{Support}(B)}\n",
        "$$\n",
        "\n",
        "A lift value of 1 indicates that the likelihood of the antecedent and consequent occurring together is no different than random.\n",
        "A lift greater than 1 suggests that the antecedent and consequent are more likely to occur together than separately, indicating a potentially useful rule.\n",
        "A lift less than 1 suggests that the items are unlikely to be bought together.\n",
        "\n",
        "\n",
        "**Confidence** tells us how often the items A and B occur together, given the number times A occurs.\n",
        "**Lift** tells us how much more likely A and B are to occur together than if they were independent."
      ],
      "metadata": {
        "id": "gqtyKxdM73o5"
      }
    },
    {
      "cell_type": "code",
      "source": [
        "# Creating a scatter plot for visualizing support vs confidence, sized by lift\n",
        "plt.figure(figsize=(10, 6))\n",
        "sns.scatterplot(x=\"support\", y=\"confidence\", size=\"lift\", data=rules)\n",
        "plt.show()"
      ],
      "metadata": {
        "colab": {
          "base_uri": "https://localhost:8080/",
          "height": 586
        },
        "id": "JN3weZN3717L",
        "outputId": "39ffdc2e-49ac-442b-b4d9-d4e33d9ac81a"
      },
      "execution_count": null,
      "outputs": [
        {
          "metadata": {
            "tags": null
          },
          "name": "stderr",
          "output_type": "stream",
          "text": [
            "/usr/local/lib/python3.10/dist-packages/ipykernel/ipkernel.py:283: DeprecationWarning: `should_run_async` will not call `transform_cell` automatically in the future. Please pass the result to `transformed_cell` argument and any exception that happen during thetransform in `preprocessing_exc_tuple` in IPython 7.17 and above.\n",
            "  and should_run_async(code)\n"
          ]
        },
        {
          "data": {
            "image/png": "[encoded data removed]",
            "text/plain": [
              "<Figure size 1000x600 with 1 Axes>"
            ]
          },
          "metadata": {},
          "output_type": "display_data"
        }
      ]
    },
    {
      "cell_type": "markdown",
      "source": [
        "**Chart Components:**\n",
        "\n",
        "\n",
        "*  X-axis (Support): This axis represents the frequency with which the  items in the rule appear together in the dataset. Higher support values indicate that the rule is more commonly observed.\n",
        "*   **Y-axis (Confidence):** On this axis, you find the likelihood that the 'consequent' will appear in a transaction given the 'antecedent' is present. Higher confidence values imply a stronger rule.\n",
        "*   **Marker Size (Lift):** The size of each point on the scatter plot represents the 'Lift' of the rule. Lift indicates the strength of a rule over random co-occurrence of the antecedent and the consequent. A larger marker means a higher lift value, indicating a stronger association.\n",
        "\n",
        "\n",
        "**What You Can Infer:**\n",
        "\n",
        "\n",
        "1.   **Quadrants:**\n",
        "\n",
        "\n",
        "> *  Top-Right: Rules in this quadrant have both high support and high confidence, making them strong candidates for actionable insights.\n",
        "*  Bottom-Right: Rules here have low support but high confidence. These are more like \"hidden gems\" but are not common enough to be a major focus.\n",
        "* Top-Left: Rules with high support but low confidence may indicate frequent items but not necessarily strong associations.\n",
        "*  Bottom-Left: Low support and low confidence rules are generally not very useful.\n",
        "\n",
        "2.   Marker Size:\n",
        "\n",
        " Larger markers, regardless of their position, point to a stronger association between the antecedent and consequent. Such rules, especially if they also have high support and confidence, should be particularly interesting for further investigation.\n",
        "\n",
        "3.   Density:\n",
        "\n",
        "Areas of the chart with a higher density of points might indicate a cluster of similar rules that could warrant closer inspection as a group.\n",
        "\n",
        "The scatter plot thus allows you to quickly assess the quality of your rules, prioritizing them based on their likelihood of occurrence (support), their reliability (confidence), and their strength (lift)."
      ],
      "metadata": {
        "id": "Ud2xau21Abfq"
      }
    },
    {
      "cell_type": "markdown",
      "source": [
        "**Interpretability**\n",
        "\n",
        "The more rules you have, the harder it might be to draw actionable insights. If many rules are closely related or variations of each other, they may not provide distinct actionable insights.\n",
        "\n",
        "**Computational Resources**\n",
        "\n",
        "While this number of rules is likely not a computational concern given modern hardware capabilities, it can make manual review or interpretation more challenging.\n",
        "\n",
        "From a practical standpoint, you'll want rules that lead to actionable insights for Customs administrations.It may be beneficial to filter down to rules with exceptionally high confidence and lift, for example, to target areas most in need of attention."
      ],
      "metadata": {
        "id": "wQzztUj281tE"
      }
    },
    {
      "cell_type": "code",
      "source": [
        "# Sorting the rules by lift and then by confidence\n",
        "sorted_rules = rules.sort_values(['lift', 'confidence'], ascending=[False, False])\n",
        "\n",
        "# Selecting the top 10 rules based on the sorting\n",
        "top_10_rules = sorted_rules.head(10)"
      ],
      "metadata": {
        "colab": {
          "base_uri": "https://localhost:8080/"
        },
        "id": "fdu3R9sE-m_U",
        "outputId": "4f8debe8-449f-4e4f-cdc3-aec3a2f10199"
      },
      "execution_count": null,
      "outputs": [
        {
          "metadata": {
            "tags": null
          },
          "name": "stderr",
          "output_type": "stream",
          "text": [
            "/usr/local/lib/python3.10/dist-packages/ipykernel/ipkernel.py:283: DeprecationWarning: `should_run_async` will not call `transform_cell` automatically in the future. Please pass the result to `transformed_cell` argument and any exception that happen during thetransform in `preprocessing_exc_tuple` in IPython 7.17 and above.\n",
            "  and should_run_async(code)\n"
          ]
        }
      ]
    },
    {
      "cell_type": "code",
      "source": [
        "# Generate sentences explaining each rule\n",
        "for i, rule in top_10_rules.iterrows():\n",
        "    antecedents = ', '.join(map(str, list(rule['antecedents'])))  # Convert to string before join\n",
        "    consequents = ', '.join(map(str, list(rule['consequents'])))  # Convert to string before join\n",
        "    support = rule['support']\n",
        "    confidence = rule['confidence']\n",
        "    lift = rule['lift']\n",
        "\n",
        "    print(f\"Rule {i+1}: If a declaration contains {antecedents}, it is likely to also contain {consequents}. \"\n",
        "          f\"This rule has a support of {support:.2f}, a confidence of {confidence:.2f}, and a lift of {lift:.2f}.\")"
      ],
      "metadata": {
        "colab": {
          "base_uri": "https://localhost:8080/"
        },
        "id": "tE-5I-sZ-ppI",
        "outputId": "4435b806-ddcc-4937-f93d-65835cd65812"
      },
      "execution_count": null,
      "outputs": [
        {
          "metadata": {
            "tags": null
          },
          "name": "stdout",
          "output_type": "stream",
          "text": [
            "Rule 1: If a declaration contains 40299000000, it is likely to also contain 40310000000. This rule has a support of 0.00, a confidence of 1.00, and a lift of 841.50.\n",
            "Rule 2: If a declaration contains 40310000000, it is likely to also contain 40299000000. This rule has a support of 0.00, a confidence of 1.00, and a lift of 841.50.\n",
            "Rule 541: If a declaration contains 40690000000, 40310000000, it is likely to also contain 40299000000. This rule has a support of 0.00, a confidence of 1.00, and a lift of 841.50.\n",
            "Rule 542: If a declaration contains 40690000000, 40299000000, it is likely to also contain 40310000000. This rule has a support of 0.00, a confidence of 1.00, and a lift of 841.50.\n",
            "Rule 545: If a declaration contains 40310000000, it is likely to also contain 40690000000, 40299000000. This rule has a support of 0.00, a confidence of 1.00, and a lift of 841.50.\n",
            "Rule 546: If a declaration contains 40299000000, it is likely to also contain 40690000000, 40310000000. This rule has a support of 0.00, a confidence of 1.00, and a lift of 841.50.\n",
            "Rule 547: If a declaration contains 180690000000, 40310000000, it is likely to also contain 40299000000. This rule has a support of 0.00, a confidence of 1.00, and a lift of 841.50.\n",
            "Rule 548: If a declaration contains 180690000000, 40299000000, it is likely to also contain 40310000000. This rule has a support of 0.00, a confidence of 1.00, and a lift of 841.50.\n",
            "Rule 551: If a declaration contains 40310000000, it is likely to also contain 180690000000, 40299000000. This rule has a support of 0.00, a confidence of 1.00, and a lift of 841.50.\n",
            "Rule 552: If a declaration contains 40299000000, it is likely to also contain 180690000000, 40310000000. This rule has a support of 0.00, a confidence of 1.00, and a lift of 841.50.\n"
          ]
        },
        {
          "metadata": {
            "tags": null
          },
          "name": "stderr",
          "output_type": "stream",
          "text": [
            "/usr/local/lib/python3.10/dist-packages/ipykernel/ipkernel.py:283: DeprecationWarning: `should_run_async` will not call `transform_cell` automatically in the future. Please pass the result to `transformed_cell` argument and any exception that happen during thetransform in `preprocessing_exc_tuple` in IPython 7.17 and above.\n",
            "  and should_run_async(code)\n"
          ]
        }
      ]
    },
    {
      "cell_type": "markdown",
      "source": [
        "Rule 1: If a declaration contains \"Milk and Cream\", it is likely to also contain \"Yogurt\".\n",
        "Support: 0.00, Confidence: 1.00, Lift: 841.50\n",
        "\n",
        "Rule 2: If a declaration contains \"Yogurt\", it is likely to also contain \"Milk and Cream\".\n",
        "Support: 0.00, Confidence: 1.00, Lift: 841.50\n",
        "\n",
        "Rule 541: If a declaration contains \"Cheese\", \"Yogurt\", it is likely to also contain \"Milk and Cream\".\n",
        "Support: 0.00, Confidence: 1.00, Lift: 841.50\n",
        "\n",
        "Rule 542: If a declaration contains \"Cheese\", \"Milk and Cream\", it is likely to also contain \"Yogurt\".\n",
        "Support: 0.00, Confidence: 1.00, Lift: 841.50\n",
        "\n",
        "Rule 545: If a declaration contains \"Yogurt\", it is likely to also contain \"Cheese\", \"Milk and Cream\".\n",
        "Support: 0.00, Confidence: 1.00, Lift: 841.50\n",
        "\n",
        "Rule 546: If a declaration contains \"Milk and Cream\", it is likely to also contain \"Cheese\", \"Yogurt\".\n",
        "Support: 0.00, Confidence: 1.00, Lift: 841.50\n",
        "\n",
        "Rule 547: If a declaration contains \"Chocolates\", \"Yogurt\", it is likely to also contain \"Milk and Cream\".\n",
        "Support: 0.00, Confidence: 1.00, Lift: 841.50\n",
        "\n",
        "Rule 548: If a declaration contains \"Chocolates\", \"Milk and Cream\", it is likely to also contain \"Yogurt\".\n",
        "Support: 0.00, Confidence: 1.00, Lift: 841.50\n",
        "\n",
        "Rule 551: If a declaration contains \"Yogurt\", it is likely to also contain \"Chocolates\", \"Milk and Cream\".\n",
        "Support: 0.00, Confidence: 1.00, Lift: 841.50\n",
        "\n",
        "Rule 552: If a declaration contains \"Milk and Cream\", it is likely to also contain \"Chocolates\", \"Yogurt\".\n",
        "Support: 0.00, Confidence: 1.00, Lift: 841.50\n",
        "\n",
        "These rules, despite having low support, have high confidence and lift, which suggests that when the antecedents are present, the consequents are almost certain to be present as well. This could be an area worth exploring for targeted inspections or efficiency improvements."
      ],
      "metadata": {
        "id": "udCZuZUdCHyS"
      }
    },
    {
      "cell_type": "markdown",
      "source": [
        "* **Targeted Inspections**: Customs authorities could consider using these rules to target inspections more effectively. For example, if they come across a declaration containing \"Milk and Cream,\" they can be almost certain that \"Yogurt\" (or other associated items) is present as well. This knowledge can help inspectors focus their efforts on high-risk declarations more efficiently.\n",
        "* **Data Validation**: These rules can also be used for data validation. If a declaration claims to contain \"Milk and Cream\" but does not declare \"Yogurt,\" it might raise a flag for further inspection or validation.\n",
        "* **Efficiency Improvements**: Customs administrations can streamline their processes by taking into account these strong associations. For example, they might consider grouping related items together for faster processing or automating certain clearance procedures for declarations that meet these criteria."
      ],
      "metadata": {
        "id": "A7t9e2L4Bxvc"
      }
    }
  ]
}