{
 "cells": [
  {
   "cell_type": "code",
   "execution_count": 51,
   "id": "5af9769c",
   "metadata": {},
   "outputs": [],
   "source": [
    "# Import Libraries\n",
    "\n",
    "from bs4 import BeautifulSoup\n",
    "import requests\n",
    "import smtplib\n",
    "import time\n",
    "import datetime\n",
    "import csv\n",
    "import pandas as pd"
   ]
  },
  {
   "cell_type": "code",
   "execution_count": 11,
   "id": "e7369d78",
   "metadata": {},
   "outputs": [
    {
     "name": "stdout",
     "output_type": "stream",
     "text": [
      "\n",
      "           2020 Apple iPad Air (10,9\", Wi-Fi, 64 GB) - Grün (4. Generation)\n",
      "          \n",
      "\n",
      "             599,99 €\n",
      "            \n"
     ]
    }
   ],
   "source": [
    "# Connect to Website\n",
    "\n",
    "URL = 'https://www.amazon.de/New-Apple-iPad-Air-10-9/dp/B08J6SHYHX/ref=sr_1_1_sspa?dchild=1&keywords=ipad&qid=1633715801&sr=8-1-spons&psc=1&spLa=ZW5jcnlwdGVkUXVhbGlmaWVyPUE1UjU4VUhURFBCS08mZW5jcnlwdGVkSWQ9QTAyNzIyNzVQTE4zRU9HTEVFSDUmZW5jcnlwdGVkQWRJZD1BMDgyOTU1MjJNWkw3MFRZUldaOUUmd2lkZ2V0TmFtZT1zcF9hdGYmYWN0aW9uPWNsaWNrUmVkaXJlY3QmZG9Ob3RMb2dDbGljaz10cnVl'\n",
    "\n",
    "headers = {'User-Agent': 'Mozilla/5.0 (Windows NT 10.0; Win64; x64; rv:93.0) Gecko/20100101 Firefox/93.0', \n",
    "           'Accept':'text/html,application/xhtml+xml,application/xml;q=0.9,*/*;q=0.8', 'DNT':'1','Connection':'close', 'Upgrade-Insecure-Requests':'1'}\n",
    "\n",
    "page = requests.get(URL, headers = headers)\n",
    "\n",
    "soup1 = BeautifulSoup(page.content, 'html.parser')\n",
    "\n",
    "soup2 = BeautifulSoup(soup1.prettify(), 'html.parser')"
   ]
  },
  {
   "cell_type": "code",
   "execution_count": 15,
   "id": "47c5df69",
   "metadata": {},
   "outputs": [
    {
     "name": "stdout",
     "output_type": "stream",
     "text": [
      "\n",
      "           2020 Apple iPad Air (10,9\", Wi-Fi, 64 GB) - Grün (4. Generation)\n",
      "           costs \n",
      "             599,99 €\n",
      "            \n"
     ]
    }
   ],
   "source": [
    "# Find Attributes from the site using the ID\n",
    "\n",
    "title = soup2.find(id = 'productTitle').get_text()\n",
    "\n",
    "price = soup2.find(id = 'priceblock_ourprice').get_text()\n",
    "\n",
    "print(title + ' costs ' + price)"
   ]
  },
  {
   "cell_type": "code",
   "execution_count": 47,
   "id": "a567a3c1",
   "metadata": {},
   "outputs": [
    {
     "name": "stdout",
     "output_type": "stream",
     "text": [
      "2020 Apple iPad Air (10,9\", Wi-Fi, 64 GB) - Grün (4. Generation)\n",
      "599,\n",
      "2021-10-08\n"
     ]
    }
   ],
   "source": [
    "# Improving Format by removing unnecessary space\n",
    "\n",
    "# Removing additional space\n",
    "title = title.strip()\n",
    "\n",
    "price = price.strip()\n",
    "\n",
    "# Removing space and Euro sign\n",
    "price = price.strip()[:len(price)-2]\n",
    "\n",
    "# Add timestamp\n",
    "\n",
    "today = datetime.date.today()\n",
    "\n",
    "print(title)\n",
    "print(price)\n",
    "print(today)"
   ]
  },
  {
   "cell_type": "code",
   "execution_count": 60,
   "id": "5a9ce6f1",
   "metadata": {},
   "outputs": [],
   "source": [
    "# Initialising header and data\n",
    "\n",
    "header = ['Title', 'Price', 'Date']\n",
    "data = [title, price, today]"
   ]
  },
  {
   "cell_type": "code",
   "execution_count": null,
   "id": "c49a643c",
   "metadata": {},
   "outputs": [],
   "source": [
    "# Write Header and Data into csv file\n",
    "\n",
    "with open('AmazonProducts.csv', 'w', newline='', encoding='UTF8') as f:\n",
    "    writer = csv.writer(f)\n",
    "    writer.writerow(header)\n",
    "    writer.writerow(data)"
   ]
  },
  {
   "cell_type": "code",
   "execution_count": 68,
   "id": "38489d49",
   "metadata": {},
   "outputs": [
    {
     "name": "stdout",
     "output_type": "stream",
     "text": [
      "                                               Title Price        Date\n",
      "0  2020 Apple iPad Air (10,9\", Wi-Fi, 64 GB) - Gr...  599,  2021-10-08\n",
      "1  2020 Apple iPad Air (10,9\", Wi-Fi, 64 GB) - Gr...  599,  2021-10-08\n",
      "2  2020 Apple iPad Air (10,9\", Wi-Fi, 64 GB) - Gr...  599,  2021-10-08\n"
     ]
    }
   ],
   "source": [
    "df = pd.read_csv(r'c:\\Users\\joelc\\AmazonProducts.csv')\n",
    "\n",
    "print(df)\n"
   ]
  },
  {
   "cell_type": "code",
   "execution_count": 67,
   "id": "196f2ed9",
   "metadata": {},
   "outputs": [],
   "source": [
    "# Append data to csv file\n",
    "\n",
    "with open('AmazonProducts.csv', 'a+', newline='', encoding='UTF8') as f:\n",
    "    writer = csv.writer(f)\n",
    "    writer.writerow(data)"
   ]
  },
  {
   "cell_type": "code",
   "execution_count": 71,
   "id": "b62f6c18",
   "metadata": {},
   "outputs": [],
   "source": [
    "# Creating a function for daily updates\n",
    "\n",
    "def append_data():\n",
    "    URL = 'https://www.amazon.de/New-Apple-iPad-Air-10-9/dp/B08J6SHYHX/ref=sr_1_1_sspa?dchild=1&keywords=ipad&qid=1633715801&sr=8-1-spons&psc=1&spLa=ZW5jcnlwdGVkUXVhbGlmaWVyPUE1UjU4VUhURFBCS08mZW5jcnlwdGVkSWQ9QTAyNzIyNzVQTE4zRU9HTEVFSDUmZW5jcnlwdGVkQWRJZD1BMDgyOTU1MjJNWkw3MFRZUldaOUUmd2lkZ2V0TmFtZT1zcF9hdGYmYWN0aW9uPWNsaWNrUmVkaXJlY3QmZG9Ob3RMb2dDbGljaz10cnVl'\n",
    "\n",
    "    headers = {'User-Agent': 'Mozilla/5.0 (Windows NT 10.0; Win64; x64; rv:93.0) Gecko/20100101 Firefox/93.0', \n",
    "           'Accept':'text/html,application/xhtml+xml,application/xml;q=0.9,*/*;q=0.8', 'DNT':'1','Connection':'close', 'Upgrade-Insecure-Requests':'1'}\n",
    "\n",
    "    page = requests.get(URL, headers = headers)\n",
    "\n",
    "    soup1 = BeautifulSoup(page.content, 'html.parser')\n",
    "\n",
    "    soup2 = BeautifulSoup(soup1.prettify(), 'html.parser')\n",
    "\n",
    "    title = soup2.find(id = 'productTitle').get_text()\n",
    "\n",
    "    price = soup2.find(id = 'priceblock_ourprice').get_text()\n",
    "    \n",
    "    title = title.strip()\n",
    "\n",
    "    price = price.strip()\n",
    "\n",
    "    price = price.strip()[:len(price)-2]\n",
    "    \n",
    "    today = datetime.date.today()\n",
    "    \n",
    "    header = ['Title', 'Price', 'Date']\n",
    "    data = [title, price, today]\n",
    "    \n",
    "    \n",
    "    with open('AmazonProducts.csv', 'a+', newline='', encoding='UTF8') as f:\n",
    "        writer = csv.writer(f)\n",
    "        writer.writerow(data)"
   ]
  },
  {
   "cell_type": "code",
   "execution_count": null,
   "id": "d89885c0",
   "metadata": {},
   "outputs": [],
   "source": [
    "# Appending row with current values every day\n",
    "\n",
    "while(True):\n",
    "    append_data()\n",
    "    time.sleep(85400)"
   ]
  },
  {
   "cell_type": "code",
   "execution_count": 73,
   "id": "71f9150d",
   "metadata": {},
   "outputs": [
    {
     "name": "stdout",
     "output_type": "stream",
     "text": [
      "                                               Title   Price        Date\n",
      "0  2020 Apple iPad Air (10,9\", Wi-Fi, 64 GB) - Gr...    599,  2021-10-08\n",
      "1  2020 Apple iPad Air (10,9\", Wi-Fi, 64 GB) - Gr...    599,  2021-10-08\n",
      "2  2020 Apple iPad Air (10,9\", Wi-Fi, 64 GB) - Gr...    599,  2021-10-08\n",
      "3  2020 Apple iPad Air (10,9\", Wi-Fi, 64 GB) - Gr...  599,99  2021-10-08\n",
      "4  2020 Apple iPad Air (10,9\", Wi-Fi, 64 GB) - Gr...  599,99  2021-10-08\n",
      "5  2020 Apple iPad Air (10,9\", Wi-Fi, 64 GB) - Gr...  599,99  2021-10-08\n"
     ]
    }
   ],
   "source": [
    "df = pd.read_csv(r'c:\\Users\\joelc\\AmazonProducts.csv')\n",
    "\n",
    "print(df)"
   ]
  },
  {
   "cell_type": "code",
   "execution_count": null,
   "id": "550f86c5",
   "metadata": {},
   "outputs": [],
   "source": []
  }
 ],
 "metadata": {
  "kernelspec": {
   "display_name": "Python 3",
   "language": "python",
   "name": "python3"
  },
  "language_info": {
   "codemirror_mode": {
    "name": "ipython",
    "version": 3
   },
   "file_extension": ".py",
   "mimetype": "text/x-python",
   "name": "python",
   "nbconvert_exporter": "python",
   "pygments_lexer": "ipython3",
   "version": "3.8.8"
  }
 },
 "nbformat": 4,
 "nbformat_minor": 5
}
